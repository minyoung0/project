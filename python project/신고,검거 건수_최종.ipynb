{
 "cells": [
  {
   "cell_type": "code",
   "execution_count": 7,
   "metadata": {
    "scrolled": false
   },
   "outputs": [
    {
     "name": "stdout",
     "output_type": "stream",
     "text": [
      "2015 년도 신고건수: 35865\n",
      "2016 년도 신고건수: 55552\n",
      "2017 년도 신고건수: 65092\n",
      "2018 년도 신고건수: 68922\n",
      "2019 년도 신고건수: 79358\n",
      "[35865, 55552, 65092, 68922, 79358]\n"
     ]
    }
   ],
   "source": [
    "import csv\n",
    "\n",
    "f=open('신고_통합.csv',encoding='cp949')#파일 열기\n",
    "data=csv.reader(f)\n",
    "header=next(data) #데이터의 헤더를 재낌(순번, 지역, 센터 적힌거 사라짐)\n",
    "\n",
    "year=2015    \n",
    "sum1=[]\n",
    "sum2=[]\n",
    "for i in data:\n",
    "    sum=0\n",
    "    if '2015' in i[0]:\n",
    "        for k in range(2,46):\n",
    "            sum += int(i[k])\n",
    "        print(year,'년도 신고건수:',sum)\n",
    "        sum1.append(sum)\n",
    "    elif '2016' in i[0]:\n",
    "        for k in range (2,46):\n",
    "            sum += int(i[k])\n",
    "        print(year+1,'년도 신고건수:',sum)\n",
    "        sum1.append(sum)\n",
    "    elif '2017' in i[0]:\n",
    "        for k in range (2,46):\n",
    "            sum += int(i[k])\n",
    "        print(year+2,'년도 신고건수:',sum)\n",
    "        sum1.append(sum)\n",
    "    elif '2018' in i[0]:\n",
    "        for k in range (2,46):\n",
    "            sum += int(i[k]) \n",
    "        print(year+3,'년도 신고건수:',sum)\n",
    "        sum1.append(sum)\n",
    "    elif '2019' in i[0]:\n",
    "        for k in range (2,46):\n",
    "            sum += int(i[k])\n",
    "        print(year+4,'년도 신고건수:',sum)\n",
    "        sum1.append(sum)\n",
    "print(sum1)\n",
    "            \n",
    "        \n",
    "#54.89%\n",
    "#17.17%\n",
    "#5.88%\n",
    "#15.14%\n",
    "\n",
    "\n",
    "    "
   ]
  },
  {
   "cell_type": "code",
   "execution_count": 25,
   "metadata": {},
   "outputs": [
    {
     "name": "stdout",
     "output_type": "stream",
     "text": [
      "2015 년도 검거 건수: 1719\n",
      "2016 년도 검거 건수: 2992\n",
      "2017 년도 검거 건수: 3320\n",
      "2018 년도 검거 건수: 3696\n",
      "2019 년도 검거 건수: 4645\n",
      "2020 년도 신고 건수에 비해 검거 된 비율: 4.79\n",
      "2021 년도 신고 건수에 비해 검거 된 비율: 5.39\n",
      "2022 년도 신고 건수에 비해 검거 된 비율: 5.10\n",
      "2023 년도 신고 건수에 비해 검거 된 비율: 5.36\n",
      "2024 년도 신고 건수에 비해 검거 된 비율: 5.85\n"
     ]
    }
   ],
   "source": [
    "import csv\n",
    "\n",
    "f=open('경찰청_아동학대 검거 및 조치현황_20201231.csv',encoding='cp949')#파일 열기\n",
    "data=csv.reader(f)\n",
    "header=next(data) #데이터의 헤더를 재낌(순번, 지역, 센터 적힌거 사라짐)\n",
    "year=2015\n",
    "year2=2015\n",
    "\n",
    "for i in data:\n",
    "    print(year,'년도 검거 건수:',i[1])\n",
    "    year+=1\n",
    "\n",
    "sum2=[1719,2992,3320,3696,4645]\n",
    "\n",
    "for i in range (0,5):\n",
    "    percent=sum2[i]/sum1[i]*100\n",
    "    print(year,\"년도 신고 건수에 비해 검거 된 비율: %.2f\"%percent)\n",
    "    year+=1\n",
    "#74%\n",
    "#10.96%\n",
    "#11.32%\n",
    "#25.67%\n",
    "\n",
    "\n"
   ]
  },
  {
   "cell_type": "code",
   "execution_count": 26,
   "metadata": {
    "scrolled": true
   },
   "outputs": [
    {
     "data": {
      "image/png": "[encoded data removed]",
      "text/plain": [
       "<Figure size 432x288 with 1 Axes>"
      ]
     },
     "metadata": {
      "needs_background": "light"
     },
     "output_type": "display_data"
    }
   ],
   "source": [
    "import matplotlib.pyplot as plt\n",
    "from matplotlib import font_manager,rc\n",
    "import matplotlib.pyplot as plt\n",
    "# plt.rcParams['figure.figsize']=[20,5]\n",
    "# font_location='C:/Windows/Fonts/malgun.ttf'\n",
    "# font_name=fm.FontProperties(fname=font_location).get_name()\n",
    "font_name=font_manager.FontProperties(fname=\"C:/Windows/Fonts/malgun.ttf\").get_name()\n",
    "rc('font',family=font_name)\n",
    "# matplotlib.rc('font',family=font_name)\n",
    "\n",
    "\n",
    "plt.plot(['2015','2016','2017','2018','2019'],[35865,55552,65092,68922,79358],label='신고 건수')\n",
    "plt.plot(['2015','2016','2017','2018','2019'],[1719,2992,3320,3696,4645],label='검거 건수')\n",
    "plt.title('신고 건수 vs 검거 건수')\n",
    "plt.ylabel('신고 건수')\n",
    "plt.xlabel('년도')\n",
    "plt.legend(loc='upper left')\n",
    "plt.show()"
   ]
  },
  {
   "cell_type": "code",
   "execution_count": null,
   "metadata": {},
   "outputs": [],
   "source": []
  }
 ],
 "metadata": {
  "kernelspec": {
   "display_name": "Python 3",
   "language": "python",
   "name": "python3"
  },
  "language_info": {
   "codemirror_mode": {
    "name": "ipython",
    "version": 3
   },
   "file_extension": ".py",
   "mimetype": "text/x-python",
   "name": "python",
   "nbconvert_exporter": "python",
   "pygments_lexer": "ipython3",
   "version": "3.8.5"
  }
 },
 "nbformat": 4,
 "nbformat_minor": 4
}
