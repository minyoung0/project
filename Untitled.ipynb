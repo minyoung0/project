{
 "cells": [
  {
   "cell_type": "code",
   "execution_count": 27,
   "metadata": {},
   "outputs": [],
   "source": [
    "import csv\n",
    "\n",
    "f=open('피해아동__학대행위자__부모_및_가족에_대한_서비스_제공_데이터병합_20210420095449.csv',encoding='cp949')#파일 열기\n",
    "data=csv.reader(f)\n",
    "header=next(data)\n",
    "header=next(data)\n",
    "header=next(data)\n",
    "\n",
    "name_list = []  #서비스 분류\n",
    "c_2013 = []\n",
    "a_2013 = []\n",
    "f_2013 = []\n",
    "c_2014 = []\n",
    "a_2014 = []\n",
    "f_2014 = []\n",
    "c_2015 = []\n",
    "a_2015 = []\n",
    "f_2015 = []\n",
    "c_2016 = []\n",
    "a_2016 = []\n",
    "f_2016 = []\n",
    "c_2017 = []\n",
    "a_2017 = []\n",
    "f_2017 = []\n",
    "c_2018 = []\n",
    "a_2018 = []\n",
    "f_2018 = []\n",
    "c_2019 = []\n",
    "a_2019 = []\n",
    "f_2019 = []\n",
    "\n",
    "for i in data:\n",
    "    name_list.append(i[0])\n",
    "    c_2013.append(int(i[1]))\n",
    "    a_2013.append(int(i[2]))\n",
    "    f_2013.append(int(i[3]))\n",
    "    c_2014.append(int(i[4]))\n",
    "    a_2014.append(int(i[5]))\n",
    "    f_2014.append(int(i[6]))\n",
    "    c_2015.append(int(i[7]))\n",
    "    a_2015.append(int(i[8]))\n",
    "    f_2015.append(int(i[9]))\n",
    "    c_2016.append(int(i[10]))\n",
    "    a_2016.append(int(i[11]))\n",
    "    f_2016.append(int(i[12]))\n",
    "    c_2017.append(int(i[13]))\n",
    "    a_2017.append(int(i[14]))\n",
    "    f_2017.append(int(i[15]))\n",
    "    c_2018.append(int(i[16]))\n",
    "    a_2018.append(int(i[17]))\n",
    "    f_2018.append(int(i[18]))\n",
    "    c_2019.append(int(i[19]))\n",
    "    a_2019.append(int(i[20]))\n",
    "    f_2019.append(int(i[21]))"
   ]
  },
  {
   "cell_type": "code",
   "execution_count": 38,
   "metadata": {},
   "outputs": [
    {
     "data": {
      "image/png": "[encoded data removed]",
      "text/plain": [
       "<Figure size 432x288 with 1 Axes>"
      ]
     },
     "metadata": {
      "needs_background": "light"
     },
     "output_type": "display_data"
    }
   ],
   "source": [
    "import matplotlib.pyplot as plt\n",
    "import numpy as np\n",
    "\n",
    "x = np.arange(7)\n",
    "years = ['2013', '2014', '2015', '2016', '2017', '2018', '2019']\n",
    "values = [28050, 400, 900, 600, 500, 400, 200]\n",
    "\n",
    "plt.bar(years, values)\n",
    "plt.show()"
   ]
  },
  {
   "cell_type": "code",
   "execution_count": 37,
   "metadata": {},
   "outputs": [
    {
     "data": {
      "image/png": "[encoded data removed]",
      "text/plain": [
       "<Figure size 432x288 with 1 Axes>"
      ]
     },
     "metadata": {
      "needs_background": "light"
     },
     "output_type": "display_data"
    }
   ],
   "source": [
    "x=[1,2,3,4]\n",
    "y=[1,2,3,4]\n",
    "\n",
    "a=[1,2,3,4]\n",
    "b=[3,4,5,6]\n",
    "\n",
    "plt.bar(x,y)\n",
    "plt.bar(a,b,bottom=y)\n",
    "plt.show()"
   ]
  },
  {
   "cell_type": "code",
   "execution_count": null,
   "metadata": {},
   "outputs": [],
   "source": [
    "\n",
    "plt.bar()"
   ]
  },
  {
   "cell_type": "code",
   "execution_count": 55,
   "metadata": {},
   "outputs": [
    {
     "data": {
      "image/png": "[encoded data removed]",
      "text/plain": [
       "<Figure size 432x288 with 1 Axes>"
      ]
     },
     "metadata": {
      "needs_background": "light"
     },
     "output_type": "display_data"
    }
   ],
   "source": [
    "import numpy as np\n",
    "from matplotlib import pyplot as plt\n",
    "import pylab\n",
    "\n",
    "domain_percent1 = [11.167, 17.973, 44.765, 21.058, 5.037]\n",
    "domain_percent2 = [14.686, 11.746, 58.686, 14.534, 0.348]\n",
    "domain_percent3 = [11.167, 17.973, 44.765, 21.058, 5.037]\n",
    "\n",
    "domain_percents = [domain_percent1,domain_percent2, domain_percent3]\n",
    "\n",
    "\n",
    "X_name = ['2013', '2014', '2015', '2016', '2017']\n",
    "n_group = len(X_name)\n",
    "index = np.arange(n_group)\n",
    "bar_width = 0.15\n",
    "\n",
    "#pylab.figure(1)\n",
    "\n",
    "for idx, i in enumerate(domain_percents):\n",
    "     pos = index + bar_width*idx    \n",
    "     plt.bar(pos, i, bar_width, tick_label=X_name)\n",
    "\n",
    "plt.xlabel('Landslide susceptibility zones')\n",
    "plt.ylabel('Percent of each class')\n",
    "\n",
    "plt.show()"
   ]
  },
  {
   "cell_type": "code",
   "execution_count": 7,
   "metadata": {},
   "outputs": [
    {
     "ename": "AttributeError",
     "evalue": "'AxesSubplot' object has no attribute 'bar_label'",
     "output_type": "error",
     "traceback": [
      "\u001b[1;31m---------------------------------------------------------------------------\u001b[0m",
      "\u001b[1;31mAttributeError\u001b[0m                            Traceback (most recent call last)",
      "\u001b[1;32m<ipython-input-7-a792baf362c7>\u001b[0m in \u001b[0;36m<module>\u001b[1;34m\u001b[0m\n\u001b[0;32m     25\u001b[0m \u001b[1;33m\u001b[0m\u001b[0m\n\u001b[0;32m     26\u001b[0m \u001b[1;31m# Label with label_type 'center' instead of the default 'edge'\u001b[0m\u001b[1;33m\u001b[0m\u001b[1;33m\u001b[0m\u001b[1;33m\u001b[0m\u001b[0m\n\u001b[1;32m---> 27\u001b[1;33m \u001b[0max\u001b[0m\u001b[1;33m.\u001b[0m\u001b[0mbar_label\u001b[0m\u001b[1;33m(\u001b[0m\u001b[0mp1\u001b[0m\u001b[1;33m,\u001b[0m \u001b[0mlabel_type\u001b[0m\u001b[1;33m=\u001b[0m\u001b[1;34m'center'\u001b[0m\u001b[1;33m)\u001b[0m\u001b[1;33m\u001b[0m\u001b[1;33m\u001b[0m\u001b[0m\n\u001b[0m\u001b[0;32m     28\u001b[0m \u001b[0max\u001b[0m\u001b[1;33m.\u001b[0m\u001b[0mbar_label\u001b[0m\u001b[1;33m(\u001b[0m\u001b[0mp2\u001b[0m\u001b[1;33m,\u001b[0m \u001b[0mlabel_type\u001b[0m\u001b[1;33m=\u001b[0m\u001b[1;34m'center'\u001b[0m\u001b[1;33m)\u001b[0m\u001b[1;33m\u001b[0m\u001b[1;33m\u001b[0m\u001b[0m\n\u001b[0;32m     29\u001b[0m \u001b[0max\u001b[0m\u001b[1;33m.\u001b[0m\u001b[0mbar_label\u001b[0m\u001b[1;33m(\u001b[0m\u001b[0mp2\u001b[0m\u001b[1;33m)\u001b[0m\u001b[1;33m\u001b[0m\u001b[1;33m\u001b[0m\u001b[0m\n",
      "\u001b[1;31mAttributeError\u001b[0m: 'AxesSubplot' object has no attribute 'bar_label'"
     ]
    },
    {
     "data": {
      "image/png": "[encoded data removed]",
      "text/plain": [
       "<Figure size 432x288 with 1 Axes>"
      ]
     },
     "metadata": {
      "needs_background": "light"
     },
     "output_type": "display_data"
    }
   ],
   "source": [
    "import matplotlib\n",
    "import matplotlib.pyplot as plt\n",
    "import numpy as np\n",
    "\n",
    "N = 5\n",
    "menMeans = (20, 35, 30, 35, -27)\n",
    "womenMeans = (25, 32, 34, 20, -25)\n",
    "menStd = (2, 3, 4, 1, 2)\n",
    "womenStd = (3, 5, 2, 3, 3)\n",
    "ind = np.arange(N)    # the x locations for the groups\n",
    "width = 0.35       # the width of the bars: can also be len(x) sequence\n",
    "\n",
    "fig, ax = plt.subplots()\n",
    "\n",
    "p1 = ax.bar(ind, menMeans, width, yerr=menStd, label='Men')\n",
    "p2 = ax.bar(ind, womenMeans, width,\n",
    "            bottom=menMeans, yerr=womenStd, label='Women')\n",
    "\n",
    "ax.axhline(0, color='grey', linewidth=0.8)\n",
    "ax.set_ylabel('Scores')\n",
    "ax.set_title('Scores by group and gender')\n",
    "ax.set_xticks(ind)\n",
    "ax.set_xticklabels(('G1', 'G2', 'G3', 'G4', 'G5'))\n",
    "ax.legend()\n",
    "\n",
    "# Label with label_type 'center' instead of the default 'edge'\n",
    "ax.bar_label(p1, label_type='center')\n",
    "ax.bar_label(p2, label_type='center')\n",
    "ax.bar_label(p2)\n",
    "\n",
    "plt.show()"
   ]
  }
 ],
 "metadata": {
  "kernelspec": {
   "display_name": "Python 3",
   "language": "python",
   "name": "python3"
  },
  "language_info": {
   "codemirror_mode": {
    "name": "ipython",
    "version": 3
   },
   "file_extension": ".py",
   "mimetype": "text/x-python",
   "name": "python",
   "nbconvert_exporter": "python",
   "pygments_lexer": "ipython3",
   "version": "3.8.5"
  }
 },
 "nbformat": 4,
 "nbformat_minor": 4
}
