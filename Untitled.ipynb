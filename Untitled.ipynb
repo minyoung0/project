{
 "cells": [
  {
   "cell_type": "code",
   "execution_count": 5,
   "metadata": {},
   "outputs": [
    {
     "name": "stdout",
     "output_type": "stream",
     "text": [
      "2015 년도 신고자 top5:  [('아동학대의심사례', 14399), ('사회복지관련종사자', 3590), ('부모', 3048), ('일반상담', 2465), ('아동학대의심사례 응급아동학대의심사례', 2252)] \n",
      "\n",
      "2016 년도 신고자 top5:  [('아동학대의심사례', 23082), ('부모', 4619), ('사회복지관련종사자', 4088), ('교직원', 3978), ('일반상담', 3604)] \n",
      "\n",
      "2017 년도 신고자 top5:  [('아동학대의심사례', 28829), ('아동보호전문기관장과 종사자', 6881), ('부모', 5328), ('교직원', 5168), ('아동본인', 3883)] \n",
      "\n",
      "2018 년도 신고자 top5:  [('아동학대의심사례', 32345), ('아동보호전문기관장과 종사자', 7756), ('교직원', 6406), ('부모', 6089), ('아동본인', 4512)] \n",
      "\n",
      "2019 년도 신고자 top5:  [('아동학대의심사례', 36920), ('아동보호전문기관장과 종사자', 12389), ('부모', 6506), ('교직원', 5901), ('아동본인', 4752)] \n",
      "\n"
     ]
    }
   ],
   "source": [
    "import csv\n",
    "import operator\n",
    "import matplotlib.pyplot as plt\n",
    "from matplotlib import font_manager,rc\n",
    "import matplotlib.pyplot as plt\n",
    "plt.rcParams['figure.figsize']=[15,5]\n",
    "f=open('신고자통합.csv',encoding='cp949')#파일 열기\n",
    "data=csv.reader(f)\n",
    "header=next(data) #데이터의 헤더를 재낌(순번, 지역, 센터 적힌거 사라짐)\n",
    "\n",
    "font_name=font_manager.FontProperties(fname=\"C:/Windows/Fonts/malgun.ttf\").get_name()\n",
    "rc('font',family=font_name)\n",
    "\n",
    "name_list=[]\n",
    "y2015_list=[]\n",
    "y2016_list=[]\n",
    "y2017_list=[]\n",
    "y2018_list=[]\n",
    "y2019_list=[]\n",
    "new_list=[]\n",
    "year=2015\n",
    "alist=[]\n",
    "\n",
    "for i in data:\n",
    "    name_list.append(i[0])\n",
    "    y2015_list.append(int(i[1]))\n",
    "    y2016_list.append(int(i[2]))\n",
    "    y2017_list.append(int(i[3]))\n",
    "    y2018_list.append(int(i[4]))\n",
    "    y2019_list.append(int(i[5]))\n",
    "dict_2015=dict(zip(name_list,y2015_list))\n",
    "dict_2016=dict(zip(name_list,y2016_list))\n",
    "dict_2017=dict(zip(name_list,y2017_list))\n",
    "dict_2018=dict(zip(name_list,y2018_list))\n",
    "dict_2019=dict(zip(name_list,y2019_list))\n",
    "    \n",
    "\n",
    "alist=[dict_2015,dict_2016,dict_2017,dict_2018,dict_2019]\n",
    "for k in alist:\n",
    "    new_list=sorted(k.items(),key=lambda k:k[1], reverse=True )\n",
    "    print(year,'년도 신고자 top5: ', new_list[:5],\"\\n\")\n",
    "    year+=1\n",
    "# plt.pie(y2015_list[:5],labels=new_list[:5] , autopct='%.1f%%')\n",
    "    "
   ]
  },
  {
   "cell_type": "code",
   "execution_count": null,
   "metadata": {},
   "outputs": [],
   "source": [
    "import matplotlib.pyplot as plt\n",
    "from matplotlib import font_manager,rc\n",
    "import matplotlib.pyplot as plt\n",
    "# plt.rcParams['figure.figsize']=[20,5]\n",
    "# font_location='C:/Windows/Fonts/malgun.ttf'\n",
    "# font_name=fm.FontProperties(fname=font_location).get_name()\n",
    "font_name=font_manager.FontProperties(fname=\"C:/Windows/Fonts/malgun.ttf\").get_name()\n",
    "rc('font',family=font_name)\n",
    "# matplotlib.rc('font',family=font_name)\n",
    "name_list=['아동학대 의심사례','응급아동학대의심사례','부모','사회복지관련 종사자','일반상담','아동본인','교직원','아동보호전문기관종사자',]\n",
    "plt.plot(b)"
   ]
  }
 ],
 "metadata": {
  "kernelspec": {
   "display_name": "Python 3",
   "language": "python",
   "name": "python3"
  },
  "language_info": {
   "codemirror_mode": {
    "name": "ipython",
    "version": 3
   },
   "file_extension": ".py",
   "mimetype": "text/x-python",
   "name": "python",
   "nbconvert_exporter": "python",
   "pygments_lexer": "ipython3",
   "version": "3.8.5"
  }
 },
 "nbformat": 4,
 "nbformat_minor": 4
}
