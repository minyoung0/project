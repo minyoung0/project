{
 "cells": [
  {
   "cell_type": "code",
   "execution_count": 24,
   "metadata": {
    "scrolled": false
   },
   "outputs": [
    {
     "ename": "FileNotFoundError",
     "evalue": "[Errno 2] No such file or directory: '보건복지부_아동학대 신고자 유형 및 신고접수 현황정보_20181231.csv'",
     "output_type": "error",
     "traceback": [
      "\u001b[1;31m---------------------------------------------------------------------------\u001b[0m",
      "\u001b[1;31mFileNotFoundError\u001b[0m                         Traceback (most recent call last)",
      "\u001b[1;32m<ipython-input-24-71e7c22466c2>\u001b[0m in \u001b[0;36m<module>\u001b[1;34m\u001b[0m\n\u001b[0;32m      1\u001b[0m \u001b[1;32mimport\u001b[0m \u001b[0mcsv\u001b[0m\u001b[1;33m\u001b[0m\u001b[1;33m\u001b[0m\u001b[0m\n\u001b[0;32m      2\u001b[0m \u001b[1;33m\u001b[0m\u001b[0m\n\u001b[1;32m----> 3\u001b[1;33m \u001b[0mf\u001b[0m\u001b[1;33m=\u001b[0m\u001b[0mopen\u001b[0m\u001b[1;33m(\u001b[0m\u001b[1;34m'보건복지부_아동학대 신고자 유형 및 신고접수 현황정보_20181231.csv'\u001b[0m\u001b[1;33m,\u001b[0m\u001b[0mencoding\u001b[0m\u001b[1;33m=\u001b[0m\u001b[1;34m'cp949'\u001b[0m\u001b[1;33m)\u001b[0m\u001b[1;31m#파일 열기\u001b[0m\u001b[1;33m\u001b[0m\u001b[1;33m\u001b[0m\u001b[0m\n\u001b[0m\u001b[0;32m      4\u001b[0m \u001b[0mdata\u001b[0m\u001b[1;33m=\u001b[0m\u001b[0mcsv\u001b[0m\u001b[1;33m.\u001b[0m\u001b[0mreader\u001b[0m\u001b[1;33m(\u001b[0m\u001b[0mf\u001b[0m\u001b[1;33m)\u001b[0m\u001b[1;33m\u001b[0m\u001b[1;33m\u001b[0m\u001b[0m\n\u001b[0;32m      5\u001b[0m \u001b[0mheader\u001b[0m\u001b[1;33m=\u001b[0m\u001b[0mnext\u001b[0m\u001b[1;33m(\u001b[0m\u001b[0mdata\u001b[0m\u001b[1;33m)\u001b[0m \u001b[1;31m#데이터의 헤더를 재낌(순번, 지역, 센터 적힌거 사라짐)\u001b[0m\u001b[1;33m\u001b[0m\u001b[1;33m\u001b[0m\u001b[0m\n",
      "\u001b[1;31mFileNotFoundError\u001b[0m: [Errno 2] No such file or directory: '보건복지부_아동학대 신고자 유형 및 신고접수 현황정보_20181231.csv'"
     ]
    }
   ],
   "source": [
    "import csv\n",
    "\n",
    "f=open('보건복지부_아동학대 신고자 유형 및 신고접수 현황정보_20181231.csv',encoding='cp949')#파일 열기\n",
    "data=csv.reader(f)\n",
    "header=next(data) #데이터의 헤더를 재낌(순번, 지역, 센터 적힌거 사라짐)\n",
    "\n",
    "#항목 수 총 45\n",
    "sum_2015=0\n",
    "sum_2016=0\n",
    "sum_2017=0\n",
    "sum_2018=0\n",
    "for i in data:\n",
    "    if '2015' in i[0]:\n",
    "        for k in range (2,46):\n",
    "            sum_2015 = sum_2015 + int(i[k])\n",
    "    elif '2016' in i[0]:\n",
    "        for k in range (2,46):\n",
    "            sum_2016 = sum_2016 + int(i[k])\n",
    "    elif '2017' in i[0]:\n",
    "        for k in range (2,46):\n",
    "            sum_2017 = sum_2017 + int(i[k])\n",
    "    elif '2018' in i[0]:\n",
    "        for k in range (2,46):\n",
    "            sum_2018 = sum_2018 + int(i[k])        \n",
    "print('2015: ',sum_2015)\n",
    "print('2016: ',sum_2016)\n",
    "print('2017: ',sum_2017)\n",
    "print('2018: ',sum_2018)\n",
    "\n",
    "\n",
    "\n",
    "        \n",
    "    "
   ]
  },
  {
   "cell_type": "code",
   "execution_count": 14,
   "metadata": {},
   "outputs": [
    {
     "name": "stdout",
     "output_type": "stream",
     "text": [
      "1719\n",
      "2992\n",
      "3320\n",
      "3696\n",
      "4645\n",
      "5551\n"
     ]
    }
   ],
   "source": [
    "import csv\n",
    "\n",
    "f=open('경찰청_아동학대 검거 및 조치현황_20201231.csv',encoding='cp949')#파일 열기\n",
    "data=csv.reader(f)\n",
    "header=next(data) #데이터의 헤더를 재낌(순번, 지역, 센터 적힌거 사라짐)\n",
    "\n",
    "for i in data:\n",
    "    print(i[1])"
   ]
  },
  {
   "cell_type": "code",
   "execution_count": 13,
   "metadata": {},
   "outputs": [
    {
     "data": {
      "image/png": "[encoded data removed]",
      "text/plain": [
       "<Figure size 432x288 with 1 Axes>"
      ]
     },
     "metadata": {
      "needs_background": "light"
     },
     "output_type": "display_data"
    }
   ],
   "source": [
    "import matplotlib.pyplot as plt\n",
    "from matplotlib import font_manager,rc\n",
    "import matplotlib.pyplot as plt\n",
    "# plt.rcParams['figure.figsize']=[20,5]\n",
    "# font_location='C:/Windows/Fonts/malgun.ttf'\n",
    "# font_name=fm.FontProperties(fname=font_location).get_name()\n",
    "font_name=font_manager.FontProperties(fname=\"C:/Windows/Fonts/malgun.ttf\").get_name()\n",
    "rc('font',family=font_name)\n",
    "# matplotlib.rc('font',family=font_name)\n",
    "\n",
    "\n",
    "plt.plot(['2015','2016','2017','2018'],[35865,55552,65092,68922])\n",
    "plt.ylabel('신고 건수')\n",
    "plt.show()"
   ]
  },
  {
   "cell_type": "code",
   "execution_count": null,
   "metadata": {},
   "outputs": [],
   "source": [
    "import pandas as pd\n",
    "import numpy as np\n",
    "from pandas import Series, DataFrame\n",
    "from numpy import nan as NA\n",
    "import matplotlib.pyplot as plt\n",
    "%matplotlib qt\n",
    "\n",
    "\n",
    "\n",
    "출처: https://data-make.tistory.com/138 [Data Makes Our Future]\n",
    "f=open('재학대_사례_발생_건수_20210419154123.csv',encoding='cp949')#파일 열기\n",
    "data=csv.reader(f)\n",
    "header=next(data) #데이터의 헤더를 재낌(순번, 지역, 센터 적힌거 사라짐)\n"
   ]
  }
 ],
 "metadata": {
  "kernelspec": {
   "display_name": "Python 3",
   "language": "python",
   "name": "python3"
  },
  "language_info": {
   "codemirror_mode": {
    "name": "ipython",
    "version": 3
   },
   "file_extension": ".py",
   "mimetype": "text/x-python",
   "name": "python",
   "nbconvert_exporter": "python",
   "pygments_lexer": "ipython3",
   "version": "3.8.5"
  }
 },
 "nbformat": 4,
 "nbformat_minor": 4
}
